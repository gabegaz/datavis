{
 "cells": [
  {
   "cell_type": "markdown",
   "metadata": {},
   "source": [
    "## Charts with a Slider\n"
   ]
  },
  {
   "cell_type": "markdown",
   "metadata": {},
   "source": [
    "### Introduction\n",
    "There are a host of software packages, libraries and frameworks that help us visualize data. Some of these tools are embedded in bigger statistical packages such as Stata and SPSS. A well-known Python library for visualizing data, Matplotlib, is also available at your service. Collaborative decision making in any business operation is an important element in situations where different departments of an organization have stakes in those decisions. In these collaborative environments, data visualization should be available to all of the stake holders and be updated simultaneously for instantaneous decision. \n",
    "\n",
    "While the above mentioned software packages have their own places in other areas of statistical analysis, they are not convenient to share visualizations and insights online and on different platforms. As a data scientist, if you produce data visualization you should be able to share them through a platform agnostic system to all of the concerned decision makers (usually non-technical people) so that they can interactively play with the graph. You need to have a tool for doing just this. Plotly Dash serves this purpose."
   ]
  },
  {
   "cell_type": "markdown",
   "metadata": {},
   "source": [
    "### Plotly Dash\n",
    "Dash is an open source Python library built on top of Plotly.js, React and Flask. Dash ties together modern UI elements like dropdowns, sliders, and graphs directly to your analytical Python code. It’s maintained by Plotly, another visualization library which helps building, scaling, and deploying data application in Python.\n",
    "\n"
   ]
  },
  {
   "cell_type": "markdown",
   "metadata": {},
   "source": [
    "Requirements\n",
    "This tutorial is based on dash version 2.6. This version supports Python 3. Versions of dash before 2.0.0 also supported Python 2. First, install dash.\n",
    "\n"
   ]
  },
  {
   "cell_type": "markdown",
   "metadata": {},
   "source": [
    "This also brings along the plotly graphing library ecosystem including plotly express which we are using in this hands-on. You need another package for handling and managing your data before sending your data to plotly express for visualization. While you have other alternatives, pandas is a convenient one for its easy-to-use dataframe. So, install pandas.\n",
    "\n"
   ]
  },
  {
   "cell_type": "markdown",
   "metadata": {},
   "source": [
    "<pre>\n",
    "<code>\n",
    "pip install jupyter-dash   # pip install dash if you are on non-Jupyter environment \n",
    "pip install pandas\n",
    "</code>\n",
    "</pre>"
   ]
  },
  {
   "cell_type": "markdown",
   "metadata": {},
   "source": [
    "### Working with Dash\n",
    "There are distinct steps you need to follow before getting your interactive chart from dash app. These steps are more or less the same irrespective of the types of project you may be working on. \n",
    "\n",
    "First let's import the necessary packages."
   ]
  },
  {
   "cell_type": "code",
   "execution_count": 1,
   "metadata": {},
   "outputs": [],
   "source": [
    "from jupyter_dash import JupyterDash #from dash import Dash in non-Jupyter environment\n",
    "from dash import html, dcc\n",
    "import plotly.express as px\n",
    "import pandas as pd\n",
    "import numpy as np\n",
    "from dash.dependencies import Output, Input"
   ]
  },
  {
   "cell_type": "markdown",
   "metadata": {},
   "source": [
    "**Instantiate dash application**\n",
    "\n",
    "Instantiate dash app is getting an object called app from Dash. You can simply use `__name__` inside the parenthesis and ignore what it is for now."
   ]
  },
  {
   "cell_type": "code",
   "execution_count": 2,
   "metadata": {},
   "outputs": [],
   "source": [
    "app = JupyterDash(__name__)"
   ]
  },
  {
   "cell_type": "markdown",
   "metadata": {},
   "source": [
    "For the third step, we use the gapminder dataset from Plotly dataset."
   ]
  },
  {
   "cell_type": "code",
   "execution_count": 3,
   "metadata": {},
   "outputs": [],
   "source": [
    "df = pd.read_csv('https://raw.githubusercontent.com/plotly/datasets/master/gapminderDataFiveYear.csv')"
   ]
  },
  {
   "cell_type": "markdown",
   "metadata": {},
   "source": [
    "You can use your own data but make sure it is structured in a way dash requires. The next step is preparing the layout and the figure to put on the layout."
   ]
  },
  {
   "cell_type": "code",
   "execution_count": 4,
   "metadata": {},
   "outputs": [],
   "source": [
    "app.layout = html.Div([\n",
    "    dcc.Graph(id='graph1'),\n",
    "    dcc.Slider(\n",
    "        df['year'].min(),\n",
    "        df['year'].max(),\n",
    "        step=None,\n",
    "        value=df['year'].min(),\n",
    "        marks={str(year): str(year) for year in df['year'].unique()},\n",
    "        id='year-slider'\n",
    "    )\n",
    "])"
   ]
  },
  {
   "cell_type": "markdown",
   "metadata": {},
   "source": [
    "The first object in the `html.Div([...])` function is the `dcc.Graph(...)` which holds the figure with the given id. This id links to the call back function that I discuss below. The second object is `dcc.Slider(...)` which gives the figure interactivity (if you are not sure what it does, you can see the constructed figure below.).\n",
    "\n",
    "The next block of code is the callback function. It takes inputs from the user (e.g. which year is need to displayed) and performs its task and returns it to the browser. The second argument of the callback function (`Input(...))`, itself a function, takes the value of year-slider. This is the id given to the `dcc.Slider(...)` in the above block of code. The first argument of the callback function (`Output(...))` takes graph1 the id given to the `dcc.Graph(..)` above. It is where the graph is displayed.\n"
   ]
  },
  {
   "cell_type": "code",
   "execution_count": 5,
   "metadata": {},
   "outputs": [],
   "source": [
    "@app.callback(\n",
    "Output('graph1', 'figure'),\n",
    "Input('year-slider', 'value'))\n",
    "def update_figure(selected_year):\n",
    "    filtered_df = df[df.year == selected_year]\n",
    "    fig = px.scatter(filtered_df, \n",
    "                    x=\"gdpPercap\", \n",
    "                    y=\"lifeExp\",\n",
    "                    size=\"pop\", \n",
    "                    color=\"continent\", \n",
    "                    hover_name=\"country\",\n",
    "                    log_x=True, size_max=55\n",
    "                    )\n",
    "    fig.update_layout(transition_duration=500)\n",
    "    return fig"
   ]
  },
  {
   "cell_type": "markdown",
   "metadata": {},
   "source": [
    "The function `update_figure(...)` takes the values through `Input(...)` (i.e. year-slider). Based on the year chosen by the user, it filters the data for relevant for this year. Then it draws the graph using the plotly express package imported in the first step. Finnally, it regurns the chart through `Outout(...)` and throws it to the place where an id of graph1 is defined.\n",
    "\n",
    "The last step is to run your application. If you are working on non-Jupyter environment, then run from the terminal like so."
   ]
  },
  {
   "cell_type": "markdown",
   "metadata": {},
   "source": [
    "<pre>\n",
    "<code>\n",
    " $ python app.py\n",
    "  ...Running on http://127.0.0.1:8050/ (Press CTRL+C to quit)\n",
    "</code>\n",
    "</pre>"
   ]
  },
  {
   "cell_type": "markdown",
   "metadata": {},
   "source": [
    "In my case, I am running on here on Jupyter, so the relevant code is in the following cell."
   ]
  },
  {
   "cell_type": "code",
   "execution_count": 6,
   "metadata": {},
   "outputs": [
    {
     "data": {
      "text/html": [
       "\n",
       "        <iframe\n",
       "            width=\"100%\"\n",
       "            height=\"650\"\n",
       "            src=\"http://127.0.0.1:8053/\"\n",
       "            frameborder=\"0\"\n",
       "            allowfullscreen\n",
       "            \n",
       "        ></iframe>\n",
       "        "
      ],
      "text/plain": [
       "<IPython.lib.display.IFrame at 0x7f5208758d00>"
      ]
     },
     "metadata": {},
     "output_type": "display_data"
    }
   ],
   "source": [
    "if __name__ == '__main__':\n",
    "    app.run_server(mode='inline', port=8053)"
   ]
  }
 ],
 "metadata": {
  "kernelspec": {
   "display_name": "Python 3 (ipykernel)",
   "language": "python",
   "name": "python3"
  },
  "language_info": {
   "codemirror_mode": {
    "name": "ipython",
    "version": 3
   },
   "file_extension": ".py",
   "mimetype": "text/x-python",
   "name": "python",
   "nbconvert_exporter": "python",
   "pygments_lexer": "ipython3",
   "version": "3.9.15"
  },
  "vscode": {
   "interpreter": {
    "hash": "e298489c9d73ed8685d7ad98d6a05d99297c37df3d7a9499035d36ba0511445b"
   }
  }
 },
 "nbformat": 4,
 "nbformat_minor": 2
}
