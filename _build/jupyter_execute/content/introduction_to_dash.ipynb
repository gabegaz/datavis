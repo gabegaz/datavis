{
 "cells": [
  {
   "cell_type": "markdown",
   "id": "d635026c",
   "metadata": {},
   "source": [
    "### Introduction\n",
    "\n",
    "We will start off our journey of data visualization with the basics using Plotly Dash. Dash is an open source Python library built on top of Plotly.js, React and Flask, Dash ties modern UI elements like dropdowns, sliders, and graphs directly to your analytical Python code. It’s maintained by Plotly, another visualization library which helps building, scaling, and deploying data apps in Python. To introduce you to what a simple Dash app looks like, let's create a simple visualization app with a small data set."
   ]
  },
  {
   "cell_type": "markdown",
   "id": "57940f10",
   "metadata": {},
   "source": [
    "### A six step process to visualize data\n",
    "\n",
    "To simplify how Plotly Dash works, we will break down the process into six distinct steps. These steps are what you need to have before getting your interactive chart from dash app.\n",
    "\n",
    "The steps are more or less the same irrispective of the types of project you may be working on; and we will follow all of the hands-on in this project based on these steps. Steps 3-5 might be a little involved and might suddenly increase in complexity depending on the size of the application.\n",
    "\n",
    "\n",
    "| #   | <p style=\"text-align: left;\">Steps </p>                  | <p style=\"text-align: left;\"> app </p> |\n",
    "| :-- | :------------------------------------------------------: | ----:|\n",
    "| 1   | <p style=\"text-align: left;\">Imports (boiler plate) </p> | <p style=\"text-align: left;\"> from dash import Dash, html, dcc</p> <p style=\"text-align: left;\"> import plotly.express as px </p> <p style=\"text-align: left;\"> import pandas as pd </p> |\n",
    "| 2   |<p style=\"text-align: left;\"> App Instantiation <p> | <p style=\"text-align: left;\">app = Dash(`__name__`) </p> |\n",
    "| 3   |<p style=\"text-align: left;\"> Extract data to be visualized</p>                            |<p style=\"text-align: left;\"> df = pd.read_csv(...) </p>|\n",
    "| 4   |<p style=\"text-align: left;\"> Visualize the data</p> |<p style=\"text-align: left;\"> fig = px.bar(...) </p>|\n",
    "| 5   |<p style=\"text-align: left;\"> App layout: a list of HTMl and/or interactive components </p> |<p style=\"text-align: left;\"> app.layout = html.Div([<br> &nbsp;&nbsp;&nbsp;&nbsp;&nbsp;&nbsp;dcc.Dropdown() <br> &nbsp;&nbsp;&nbsp;&nbsp;&nbsp;&nbsp; dcc.Graph()<br>...]) </p>|\n",
    "| 6   |<p style=\"text-align: left;\"> Call back functions</p>\t                                     |<p style=\"text-align: left;\"> app.callback(...) </p>|\n",
    "| 7   |<p style=\"text-align: left;\"> Running the app </p>\t                                         |<p style=\"text-align: left;\"> if __name__ = \"__main__\":<br>&nbsp;&nbsp;&nbsp;&nbsp;&nbsp;&nbsp;  app.run_server() </p> |\n"
   ]
  },
  {
   "cell_type": "markdown",
   "id": "f1038fc7",
   "metadata": {},
   "source": [
    "As you can see from the above table, the first step imports all the available libraries. The second step is instantiating the app making Dash available for using its powerful methods/objects. In the third step, we get data to be visualized. We can get data from anywhere you can imagine (local file system, local and remote databases, cloud resources, APIs etc.) In the fourth step, we visualize the data that we extracted in the previous step. The fifth step constructs the layout where the figure is displayed on. The sixth step is what powers dash for its interactivity. The seventh step prepares the app for running it. The actual execution of the app will be made from the terminal."
   ]
  },
  {
   "cell_type": "markdown",
   "id": "becd5035",
   "metadata": {},
   "source": [
    "Now we will follow these steps to visualize a crop production data into bar graph so that we can apply it to more advanced charts in the upcoming sections.\n",
    "\n",
    "This section is based on dash version 2.6. This version supports Python 3. Versions of dash before 2.0.0 also supported Python 2. \n",
    "First create a Python environment. "
   ]
  },
  {
   "cell_type": "markdown",
   "id": "ee200752",
   "metadata": {},
   "source": [
    "<pre>\n",
    "<code>\n",
    "cd Desktop                          #go to Desktop. You can be anywhere \n",
    "mkdir NAME_OF_DIRECTORY             #create your folder anywhere you want your project to reside. \n",
    "                                    #Replace NAME_OF_DIRECTORY with your own folder name\n",
    "python3 venv YOUR_VIRTUAL_ENV       #replace YOUR_VIRTUAL_ENV with your own name\n",
    "source venv/bin/activate            #This activates your environment\n",
    "</code>\n",
    "</pre>"
   ]
  },
  {
   "cell_type": "markdown",
   "id": "de6f1885",
   "metadata": {},
   "source": [
    "Next, install dash and pandas, while you are in your environment."
   ]
  },
  {
   "cell_type": "markdown",
   "id": "ea2c65ef",
   "metadata": {},
   "source": [
    "<pre>\n",
    "<code>\n",
    "pip install dash\n",
    "pip install pandas\n",
    "</code>\n",
    "</pre>"
   ]
  },
  {
   "cell_type": "markdown",
   "id": "d2f2f326",
   "metadata": {},
   "source": [
    "\n",
    "### Step 1: Import the necessary libraries\n",
    "\n",
    "Importing dash and its ecosystem is no different from importing other python library. The first line needs some explanation, however. There are two flavours of dash(Python): Dash and JupyterDash. JupyterDash is usually used to work with Jupyter Notebook as we are doing now. For script based python files, you can use `from dash import Dash`."
   ]
  },
  {
   "cell_type": "code",
   "execution_count": 1,
   "id": "2ad1c6a8",
   "metadata": {},
   "outputs": [],
   "source": [
    "from jupyter_dash import JupyterDash\n",
    "from dash import html, dcc\n",
    "import plotly.express as px\n",
    "import pandas as pd"
   ]
  },
  {
   "cell_type": "markdown",
   "id": "29a052eb",
   "metadata": {},
   "source": [
    "The second line imports two important components `html` and `dcc`. In the third line, we are importing plotly express that does the actualization visualization task. Finally, we are importing pandas to extract, handle and prepare data so that it will be in a format that plotly express requires."
   ]
  },
  {
   "cell_type": "markdown",
   "id": "a8c1b0b4",
   "metadata": {},
   "source": [
    "### Step 2: Instantiate app\n",
    "\n",
    "Instantiating dash app is getting an object called app from Dash. You can simply use __name__ inside the parenthesis and ignore what it is for now.\n",
    "\n",
    "We use JupyterDash here. As explained above, you can use Dash proper (so that this will be `app = Dash(__name__)` if you want to work in a different environment from Jupyter notebook."
   ]
  },
  {
   "cell_type": "code",
   "execution_count": 2,
   "id": "7021c49c",
   "metadata": {},
   "outputs": [],
   "source": [
    "app = JupyterDash(__name__)"
   ]
  },
  {
   "cell_type": "markdown",
   "id": "8a3f1ac9",
   "metadata": {},
   "source": [
    "### Step 3: Extract and prepare data\n",
    "\n",
    "In the third step, we use data from the World Bank on exports of goods and services for three countries: Ethiopia, Uganda and Kenya. The values are expressed in millions of USD. To extract this data, we use pandas's `pd.read_excel(...)` function."
   ]
  },
  {
   "cell_type": "code",
   "execution_count": 3,
   "id": "19407735",
   "metadata": {},
   "outputs": [],
   "source": [
    "df = pd.read_excel('../data/exports.xlsx')"
   ]
  },
  {
   "cell_type": "markdown",
   "id": "36c37ebb",
   "metadata": {},
   "source": [
    "You can see the structure of the data by using the data frame. Just run the following cell, you will find the data in long form."
   ]
  },
  {
   "cell_type": "code",
   "execution_count": 4,
   "id": "e3156455",
   "metadata": {
    "scrolled": true
   },
   "outputs": [
    {
     "data": {
      "text/html": [
       "<div>\n",
       "<style scoped>\n",
       "    .dataframe tbody tr th:only-of-type {\n",
       "        vertical-align: middle;\n",
       "    }\n",
       "\n",
       "    .dataframe tbody tr th {\n",
       "        vertical-align: top;\n",
       "    }\n",
       "\n",
       "    .dataframe thead th {\n",
       "        text-align: right;\n",
       "    }\n",
       "</style>\n",
       "<table border=\"1\" class=\"dataframe\">\n",
       "  <thead>\n",
       "    <tr style=\"text-align: right;\">\n",
       "      <th></th>\n",
       "      <th>year</th>\n",
       "      <th>Country</th>\n",
       "      <th>Exports of goods and services (Million US$)</th>\n",
       "    </tr>\n",
       "  </thead>\n",
       "  <tbody>\n",
       "    <tr>\n",
       "      <th>0</th>\n",
       "      <td>2010</td>\n",
       "      <td>Ethiopia</td>\n",
       "      <td>4644.218342</td>\n",
       "    </tr>\n",
       "    <tr>\n",
       "      <th>1</th>\n",
       "      <td>2011</td>\n",
       "      <td>Ethiopia</td>\n",
       "      <td>5831.538472</td>\n",
       "    </tr>\n",
       "    <tr>\n",
       "      <th>2</th>\n",
       "      <td>2012</td>\n",
       "      <td>Ethiopia</td>\n",
       "      <td>5994.928705</td>\n",
       "    </tr>\n",
       "    <tr>\n",
       "      <th>3</th>\n",
       "      <td>2013</td>\n",
       "      <td>Ethiopia</td>\n",
       "      <td>6116.476023</td>\n",
       "    </tr>\n",
       "    <tr>\n",
       "      <th>4</th>\n",
       "      <td>2014</td>\n",
       "      <td>Ethiopia</td>\n",
       "      <td>6385.691687</td>\n",
       "    </tr>\n",
       "    <tr>\n",
       "      <th>5</th>\n",
       "      <td>2015</td>\n",
       "      <td>Ethiopia</td>\n",
       "      <td>6007.196233</td>\n",
       "    </tr>\n",
       "    <tr>\n",
       "      <th>6</th>\n",
       "      <td>2016</td>\n",
       "      <td>Ethiopia</td>\n",
       "      <td>5905.571808</td>\n",
       "    </tr>\n",
       "    <tr>\n",
       "      <th>7</th>\n",
       "      <td>2017</td>\n",
       "      <td>Ethiopia</td>\n",
       "      <td>6637.865077</td>\n",
       "    </tr>\n",
       "    <tr>\n",
       "      <th>8</th>\n",
       "      <td>2018</td>\n",
       "      <td>Ethiopia</td>\n",
       "      <td>7624.331353</td>\n",
       "    </tr>\n",
       "    <tr>\n",
       "      <th>9</th>\n",
       "      <td>2019</td>\n",
       "      <td>Ethiopia</td>\n",
       "      <td>7588.186488</td>\n",
       "    </tr>\n",
       "    <tr>\n",
       "      <th>10</th>\n",
       "      <td>2020</td>\n",
       "      <td>Ethiopia</td>\n",
       "      <td>7714.600977</td>\n",
       "    </tr>\n",
       "    <tr>\n",
       "      <th>11</th>\n",
       "      <td>2010</td>\n",
       "      <td>Kenya</td>\n",
       "      <td>8983.066273</td>\n",
       "    </tr>\n",
       "    <tr>\n",
       "      <th>12</th>\n",
       "      <td>2011</td>\n",
       "      <td>Kenya</td>\n",
       "      <td>9967.810101</td>\n",
       "    </tr>\n",
       "    <tr>\n",
       "      <th>13</th>\n",
       "      <td>2012</td>\n",
       "      <td>Kenya</td>\n",
       "      <td>11205.421063</td>\n",
       "    </tr>\n",
       "    <tr>\n",
       "      <th>14</th>\n",
       "      <td>2013</td>\n",
       "      <td>Kenya</td>\n",
       "      <td>10978.240069</td>\n",
       "    </tr>\n",
       "    <tr>\n",
       "      <th>15</th>\n",
       "      <td>2014</td>\n",
       "      <td>Kenya</td>\n",
       "      <td>11243.141970</td>\n",
       "    </tr>\n",
       "    <tr>\n",
       "      <th>16</th>\n",
       "      <td>2015</td>\n",
       "      <td>Kenya</td>\n",
       "      <td>10608.334366</td>\n",
       "    </tr>\n",
       "    <tr>\n",
       "      <th>17</th>\n",
       "      <td>2016</td>\n",
       "      <td>Kenya</td>\n",
       "      <td>9912.816058</td>\n",
       "    </tr>\n",
       "    <tr>\n",
       "      <th>18</th>\n",
       "      <td>2017</td>\n",
       "      <td>Kenya</td>\n",
       "      <td>10448.709926</td>\n",
       "    </tr>\n",
       "    <tr>\n",
       "      <th>19</th>\n",
       "      <td>2018</td>\n",
       "      <td>Kenya</td>\n",
       "      <td>11564.054354</td>\n",
       "    </tr>\n",
       "    <tr>\n",
       "      <th>20</th>\n",
       "      <td>2019</td>\n",
       "      <td>Kenya</td>\n",
       "      <td>11471.244797</td>\n",
       "    </tr>\n",
       "    <tr>\n",
       "      <th>21</th>\n",
       "      <td>2020</td>\n",
       "      <td>Kenya</td>\n",
       "      <td>9709.330229</td>\n",
       "    </tr>\n",
       "    <tr>\n",
       "      <th>22</th>\n",
       "      <td>2010</td>\n",
       "      <td>Uganda</td>\n",
       "      <td>3468.077635</td>\n",
       "    </tr>\n",
       "    <tr>\n",
       "      <th>23</th>\n",
       "      <td>2011</td>\n",
       "      <td>Uganda</td>\n",
       "      <td>4298.479346</td>\n",
       "    </tr>\n",
       "    <tr>\n",
       "      <th>24</th>\n",
       "      <td>2012</td>\n",
       "      <td>Uganda</td>\n",
       "      <td>4935.836850</td>\n",
       "    </tr>\n",
       "    <tr>\n",
       "      <th>25</th>\n",
       "      <td>2013</td>\n",
       "      <td>Uganda</td>\n",
       "      <td>4931.775815</td>\n",
       "    </tr>\n",
       "    <tr>\n",
       "      <th>26</th>\n",
       "      <td>2014</td>\n",
       "      <td>Uganda</td>\n",
       "      <td>4905.294915</td>\n",
       "    </tr>\n",
       "    <tr>\n",
       "      <th>27</th>\n",
       "      <td>2015</td>\n",
       "      <td>Uganda</td>\n",
       "      <td>4728.648692</td>\n",
       "    </tr>\n",
       "    <tr>\n",
       "      <th>28</th>\n",
       "      <td>2016</td>\n",
       "      <td>Uganda</td>\n",
       "      <td>4836.478690</td>\n",
       "    </tr>\n",
       "    <tr>\n",
       "      <th>29</th>\n",
       "      <td>2017</td>\n",
       "      <td>Uganda</td>\n",
       "      <td>5095.505082</td>\n",
       "    </tr>\n",
       "    <tr>\n",
       "      <th>30</th>\n",
       "      <td>2018</td>\n",
       "      <td>Uganda</td>\n",
       "      <td>6082.892055</td>\n",
       "    </tr>\n",
       "    <tr>\n",
       "      <th>31</th>\n",
       "      <td>2019</td>\n",
       "      <td>Uganda</td>\n",
       "      <td>6171.772905</td>\n",
       "    </tr>\n",
       "    <tr>\n",
       "      <th>32</th>\n",
       "      <td>2020</td>\n",
       "      <td>Uganda</td>\n",
       "      <td>5562.352995</td>\n",
       "    </tr>\n",
       "  </tbody>\n",
       "</table>\n",
       "</div>"
      ],
      "text/plain": [
       "    year   Country  Exports of goods and services (Million US$)\n",
       "0   2010  Ethiopia                                  4644.218342\n",
       "1   2011  Ethiopia                                  5831.538472\n",
       "2   2012  Ethiopia                                  5994.928705\n",
       "3   2013  Ethiopia                                  6116.476023\n",
       "4   2014  Ethiopia                                  6385.691687\n",
       "5   2015  Ethiopia                                  6007.196233\n",
       "6   2016  Ethiopia                                  5905.571808\n",
       "7   2017  Ethiopia                                  6637.865077\n",
       "8   2018  Ethiopia                                  7624.331353\n",
       "9   2019  Ethiopia                                  7588.186488\n",
       "10  2020  Ethiopia                                  7714.600977\n",
       "11  2010     Kenya                                  8983.066273\n",
       "12  2011     Kenya                                  9967.810101\n",
       "13  2012     Kenya                                 11205.421063\n",
       "14  2013     Kenya                                 10978.240069\n",
       "15  2014     Kenya                                 11243.141970\n",
       "16  2015     Kenya                                 10608.334366\n",
       "17  2016     Kenya                                  9912.816058\n",
       "18  2017     Kenya                                 10448.709926\n",
       "19  2018     Kenya                                 11564.054354\n",
       "20  2019     Kenya                                 11471.244797\n",
       "21  2020     Kenya                                  9709.330229\n",
       "22  2010    Uganda                                  3468.077635\n",
       "23  2011    Uganda                                  4298.479346\n",
       "24  2012    Uganda                                  4935.836850\n",
       "25  2013    Uganda                                  4931.775815\n",
       "26  2014    Uganda                                  4905.294915\n",
       "27  2015    Uganda                                  4728.648692\n",
       "28  2016    Uganda                                  4836.478690\n",
       "29  2017    Uganda                                  5095.505082\n",
       "30  2018    Uganda                                  6082.892055\n",
       "31  2019    Uganda                                  6171.772905\n",
       "32  2020    Uganda                                  5562.352995"
      ]
     },
     "execution_count": 4,
     "metadata": {},
     "output_type": "execute_result"
    }
   ],
   "source": [
    "df"
   ]
  },
  {
   "cell_type": "markdown",
   "id": "fc05a0cd",
   "metadata": {},
   "source": [
    "### Step 4: Generate the figure\n",
    "\n",
    "Dash graphs are drawn separately and will be appended in the layout (that we will build in teh next step). There are a couple of important functions in the Plotly ecosystem that we can use to draw graphs for Dash. The first of these is [plotly express](https://plotly.com/python/plotly-express/). Plotly express was imported as px above. We can use its inbuilt fuction `px.line(...)` to draw our graph based on the export data like so."
   ]
  },
  {
   "cell_type": "code",
   "execution_count": 5,
   "id": "e1017746",
   "metadata": {},
   "outputs": [],
   "source": [
    "fig = px.line(df, x=\"year\", \n",
    "             y=\"Exports of goods and services (Million US$)\", \n",
    "             color=\"Country\")"
   ]
  },
  {
   "cell_type": "markdown",
   "id": "8bbcf10b",
   "metadata": {},
   "source": [
    "We are drawing a line graph. It has four basic arguments. The function takes data using the first argument `df`. The second and third arguments are the `x-axis`, and the `y-axis` respectively. Finally, want to differenciate which lines are for which country. Thus, the last argument (i.e. `color`) serves this purpose."
   ]
  },
  {
   "cell_type": "markdown",
   "id": "639d4995",
   "metadata": {},
   "source": [
    "### Step 5: Now the layout\n",
    "\n",
    "Once we draw the graph (which was captured in the object `fig`), we can prepare a layout for putting it properly. This leads us to `layouts`. Dash layouts are simply html components with some additional Dash components.\n",
    "\n",
    "The function`html.Div(...)` (which translates to html's `Div`) holds everything including the graph and some text(such as title or a summary of the graph). The first object in the `html.Div(...)` is the title of the graph with html header. The second argument of the function is the `dcc.Graph(...)` which holds the figure with the given id. The id links to the call back function which doesn't exist here. We will cover callbacks in a later article."
   ]
  },
  {
   "cell_type": "code",
   "execution_count": 6,
   "id": "d4116348",
   "metadata": {},
   "outputs": [],
   "source": [
    "app.layout = html.Div(children=[\n",
    "    html.H1(children='Exports of goods and services (Million US$)'),\n",
    "    dcc.Graph(\n",
    "        id='example-graph',\n",
    "        figure=fig\n",
    "    )\n",
    "])\n"
   ]
  },
  {
   "cell_type": "markdown",
   "id": "3c4c33db",
   "metadata": {},
   "source": [
    "### Step 6: Callback functions\n",
    "\n",
    "We are not using callbacks here (we will deal with them in a latter section in this project)."
   ]
  },
  {
   "cell_type": "markdown",
   "id": "fd2fee17",
   "metadata": {},
   "source": [
    "### Step 7: Run the app\n",
    "\n",
    "Finnaly, we prepare the application to run from the terminal. `mode='inline'` is an argument that you might not use for Dash (it is used only for JupyterDash to help run on Jupyter Notebook)"
   ]
  },
  {
   "cell_type": "code",
   "execution_count": 7,
   "id": "c81aa107",
   "metadata": {
    "scrolled": true
   },
   "outputs": [
    {
     "data": {
      "text/html": [
       "\n",
       "<iframe\n",
       "    width=\"100%\"\n",
       "    height=\"650\"\n",
       "    src=\"http://127.0.0.1:8051/\"\n",
       "    frameborder=\"0\"\n",
       "    allowfullscreen\n",
       "\n",
       "></iframe>\n"
      ],
      "text/plain": [
       "<IPython.lib.display.IFrame at 0x7eff8988d730>"
      ]
     },
     "metadata": {},
     "output_type": "display_data"
    }
   ],
   "source": [
    "if __name__ == '__main__':\n",
    "    app.run_server(mode='inline', port=8051)"
   ]
  },
  {
   "cell_type": "markdown",
   "id": "16f3b282",
   "metadata": {},
   "source": [
    "You can click the link and see your app running. Even at this lavel of infance, Dash plots can exhibit some interactivity. Moving the cursor accross the lines show as values for the correspoending axis. Furthermore, once can click country name in the legend to hid plots on main graph, and so on."
   ]
  }
 ],
 "metadata": {
  "kernelspec": {
   "display_name": "Python 3 (ipykernel)",
   "language": "python",
   "name": "python3"
  },
  "language_info": {
   "codemirror_mode": {
    "name": "ipython",
    "version": 3
   },
   "file_extension": ".py",
   "mimetype": "text/x-python",
   "name": "python",
   "nbconvert_exporter": "python",
   "pygments_lexer": "ipython3",
   "version": "3.9.15"
  },
  "vscode": {
   "interpreter": {
    "hash": "e298489c9d73ed8685d7ad98d6a05d99297c37df3d7a9499035d36ba0511445b"
   }
  }
 },
 "nbformat": 4,
 "nbformat_minor": 5
}