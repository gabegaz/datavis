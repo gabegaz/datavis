{
 "cells": [
  {
   "cell_type": "markdown",
   "id": "7eb05aa7",
   "metadata": {},
   "source": [
    "# Racing Bar Charts with Dash\n",
    "\n",
    "## Introduction\n",
    "\n",
    "Analysis on temporal observations (aka time series data) can be made in several ways. One traditional and most commonly used time series charts is to draw time on the x-axis and values of variables on the y-axis. This provides us with the behavior of a variable (e.g. trend, variability, seasonality and a basic view of whether that variable exhibits stationarity). A relatively newer way of looking at the dynamics of changes in the units of analysis with respect to a given variable is a racing chart (i.e. animated charts based on changes in the values of a variable over time). Racing charts can be used for different types of plots such as scatter plots, bar charts etc. In this tutorial, we will see how we can construct a racing bar chart."
   ]
  },
  {
   "cell_type": "markdown",
   "id": "ab62a5a5",
   "metadata": {},
   "source": [
    "There are different tools (libraries) out there that can help us draw a racing charts. One such tool is Python’s Plotly Dash, whose basic use was shown in section 1. This can be achieved by tweaking some of the arguments of the Figure object in Dash."
   ]
  },
  {
   "cell_type": "markdown",
   "id": "08124b09",
   "metadata": {},
   "source": [
    "## Installation and setup\n",
    "I use Python 3.9 for this section tutorial and is based on dash version 2.6.1 (which supports Python 3). Versions of dash before 2.0.0 also support Python 2. But it is preferable to work with Python 3 as Python 2 is no more supported by the Python software foundation as of 2020. Working in a virtual environment is advisable as it will create a sandbox for our project without disturbing other environments in your machine. Creating a virtual environment is easy. You can implement one of the few approaches available. You can use venv which comes with Python. In linux systems, you can run the following commands to create a virtual environment."
   ]
  },
  {
   "cell_type": "markdown",
   "id": "266088c3",
   "metadata": {},
   "source": [
    "<pre>\n",
    "<code>\n",
    "cd Desktop                          #go to Desktop. You can be anywhere \n",
    "mkdir NAME_OF_DIRECTORY             #create your folder anywhere you want your project to reside. \n",
    "                                    #Replace NAME_OF_DIRECTORY with your own folder name\n",
    "python3 venv YOUR_VIRTUAL_ENV       #replace YOUR_VIRTUAL_ENV with your own name\n",
    "source venv/bin/activate            #This activates your environment\n",
    "</code>\n",
    "</pre>"
   ]
  },
  {
   "cell_type": "markdown",
   "id": "373d3e47",
   "metadata": {},
   "source": [
    "First, while you are in your virtual environment, install dash. Also install pandas for handling data and provide dataframe to plotly express (a package from Plotly) for visualization. But we don’t need to install plotly express separately as it is handled by dash. Installing dash will bring plotly express to our service.\n"
   ]
  },
  {
   "cell_type": "markdown",
   "id": "c70b746c",
   "metadata": {},
   "source": [
    "<pre>\n",
    "<code>\n",
    "pip install jupyter-dash   # pip install dash if you are on non-Jupyter environment \n",
    "pip install pandas\n",
    "</code>\n",
    "</pre>"
   ]
  },
  {
   "cell_type": "markdown",
   "id": "343de540",
   "metadata": {},
   "source": [
    "## Start coding\n",
    "\n",
    "**Importing packages**\n",
    "\n",
    "Once your installation process went well, let’s start the actual coding. Open a file and name it whatever you want to call it. I called it app.py for this tutorial. I always consider the basic  seven step process, described in the first section, while working with Plotly Dash. First, import the packages that we need for instantiating our app, data handling, visualizing and interacting with our data. Each of these modules imported below will be explained in places they are used, so go run the following."
   ]
  },
  {
   "cell_type": "code",
   "execution_count": 1,
   "id": "431976b2",
   "metadata": {},
   "outputs": [],
   "source": [
    "from jupyter_dash import JupyterDash\n",
    "from dash import html, dcc\n",
    "import plotly.express as px\n",
    "import pandas as pd\n",
    "import numpy as np\n",
    "from dash.dependencies import Output, Input"
   ]
  },
  {
   "cell_type": "markdown",
   "id": "2a004a2c",
   "metadata": {},
   "source": [
    "**Instantiate dash application**\n",
    "\n",
    "We run `from jupyter_dash import JupyterDash` to have access to the Dash class to instantiate our application. So go run the following code. The `__name__` value for the name parameter is used to make it easy for Dash to locate static assets to be used in the app.\n"
   ]
  },
  {
   "cell_type": "code",
   "execution_count": 2,
   "id": "d0c940d3",
   "metadata": {},
   "outputs": [],
   "source": [
    "app = JupyterDash(__name__)"
   ]
  },
  {
   "cell_type": "markdown",
   "id": "5344227e",
   "metadata": {},
   "source": [
    "**Work on your data**\n",
    "\n",
    "Now, lets work on our data before going further coding with dash. We use pandas for this and the reason we imported `import pandas as pd`. You need pandas for reading our data, handling and managing it and sending the refined data to plotly express for visualization. While you have other alternatives, pandas is a convenient one for its easy-to-use dataframe.\n",
    "\n",
    "At this point, I use data from National Bank of Ethiopia on total bank lending, collection of loans and outstanding loans. This information is available by bank (hence the reason for using it to show racing bar chart). If you want country data for example, you should have data of your interest from at least more than one country. The data I’m using is from my local machine, and is in comma separated values (csv), so I can use pandas’s `pd.read_csv(...)` method to get the data for our purpose."
   ]
  },
  {
   "cell_type": "code",
   "execution_count": 3,
   "id": "c082dd08",
   "metadata": {},
   "outputs": [],
   "source": [
    "df = pd.read_csv('../data/bank_loan.csv')"
   ]
  },
  {
   "cell_type": "markdown",
   "id": "a690d6ee",
   "metadata": {},
   "source": [
    "Let’s see the structure of the data we are using. Use `df.head()` to see the first five observations of the data set and `df.columns` to see the number and type of columns we will be working."
   ]
  },
  {
   "cell_type": "code",
   "execution_count": 4,
   "id": "52376540",
   "metadata": {},
   "outputs": [
    {
     "data": {
      "text/html": [
       "<div>\n",
       "<style scoped>\n",
       "    .dataframe tbody tr th:only-of-type {\n",
       "        vertical-align: middle;\n",
       "    }\n",
       "\n",
       "    .dataframe tbody tr th {\n",
       "        vertical-align: top;\n",
       "    }\n",
       "\n",
       "    .dataframe thead th {\n",
       "        text-align: right;\n",
       "    }\n",
       "</style>\n",
       "<table border=\"1\" class=\"dataframe\">\n",
       "  <thead>\n",
       "    <tr style=\"text-align: right;\">\n",
       "      <th></th>\n",
       "      <th>Unnamed: 0</th>\n",
       "      <th>year</th>\n",
       "      <th>bank</th>\n",
       "      <th>collection</th>\n",
       "      <th>outstanding</th>\n",
       "      <th>disbursement</th>\n",
       "    </tr>\n",
       "  </thead>\n",
       "  <tbody>\n",
       "    <tr>\n",
       "      <th>0</th>\n",
       "      <td>41</td>\n",
       "      <td>1981</td>\n",
       "      <td>CBE</td>\n",
       "      <td>1.3061</td>\n",
       "      <td>1.2306</td>\n",
       "      <td>1.4405</td>\n",
       "    </tr>\n",
       "    <tr>\n",
       "      <th>1</th>\n",
       "      <td>42</td>\n",
       "      <td>1982</td>\n",
       "      <td>CBE</td>\n",
       "      <td>0.5701</td>\n",
       "      <td>2.1581</td>\n",
       "      <td>0.7278</td>\n",
       "    </tr>\n",
       "    <tr>\n",
       "      <th>2</th>\n",
       "      <td>43</td>\n",
       "      <td>1983</td>\n",
       "      <td>CBE</td>\n",
       "      <td>1.1026</td>\n",
       "      <td>1.8113</td>\n",
       "      <td>1.0536</td>\n",
       "    </tr>\n",
       "    <tr>\n",
       "      <th>3</th>\n",
       "      <td>44</td>\n",
       "      <td>1984</td>\n",
       "      <td>CBE</td>\n",
       "      <td>0.7798</td>\n",
       "      <td>0.9634</td>\n",
       "      <td>0.7584</td>\n",
       "    </tr>\n",
       "    <tr>\n",
       "      <th>4</th>\n",
       "      <td>45</td>\n",
       "      <td>1985</td>\n",
       "      <td>CBE</td>\n",
       "      <td>0.4627</td>\n",
       "      <td>2.0038</td>\n",
       "      <td>0.4044</td>\n",
       "    </tr>\n",
       "  </tbody>\n",
       "</table>\n",
       "</div>"
      ],
      "text/plain": [
       "   Unnamed: 0  year bank  collection  outstanding  disbursement\n",
       "0          41  1981  CBE      1.3061       1.2306        1.4405\n",
       "1          42  1982  CBE      0.5701       2.1581        0.7278\n",
       "2          43  1983  CBE      1.1026       1.8113        1.0536\n",
       "3          44  1984  CBE      0.7798       0.9634        0.7584\n",
       "4          45  1985  CBE      0.4627       2.0038        0.4044"
      ]
     },
     "execution_count": 4,
     "metadata": {},
     "output_type": "execute_result"
    }
   ],
   "source": [
    "\n",
    "#check data\n",
    "df.head()"
   ]
  },
  {
   "cell_type": "markdown",
   "id": "686d6d4e",
   "metadata": {},
   "source": [
    "At this point, you can work on preparing data suitable for visualization. I will not do much here because this data is already prepared for this purpose. Only one thing I do is to replace 0 with NA using the following code.\n",
    "\n"
   ]
  },
  {
   "cell_type": "code",
   "execution_count": 5,
   "id": "f9c3cd26",
   "metadata": {},
   "outputs": [],
   "source": [
    "#replace 0 with NA \n",
    "df.replace(0, np.nan, inplace=True)"
   ]
  },
  {
   "cell_type": "markdown",
   "id": "02e6603f",
   "metadata": {},
   "source": [
    "**Preparing dash layout**\n",
    "\n",
    "Now that we are done with getting data, preparing it for our purpose, it’s time to start with the layout of the figure we are building. Everything in the following code snippet is inside `html.Div()` function of the `html` module imported above. This is translated to html's `div` component behind the scenes. Inside this div component, the title of the chart is put using `html.H2` which, in a similar manner, is translated to html's h2 component. \n",
    "\n",
    "\n",
    "Next, we use `dcc` module to call a class Dropdown to select variables for visualization. `html.Br()` simply puts a vertical space. Our chart is put in the `html.Div()` with a `Graph` class coming with the same module. The `id='racing_bar_chart'` is a random name and can be changed, but a necessary construct to refer to the figure from a python callback function to be built in the next step."
   ]
  },
  {
   "cell_type": "code",
   "execution_count": 6,
   "id": "1997d331",
   "metadata": {},
   "outputs": [],
   "source": [
    "app.layout = html.Div([\n",
    "        html.H2(\"A racing bar chart: Ethiopian banks\"),\n",
    "\n",
    "        dcc.Dropdown(id= 'dropdown_var_input',\n",
    "                options=[{'label': var, \n",
    "                                'value': var} for var in ['collection', 'disbursement', 'outstanding']]),\n",
    "        html.Br(),\n",
    "        html.Div(\n",
    "            dcc.Graph(id='racing_bar_chart_output',\n",
    "                ),\n",
    "            ),\n",
    "        html.Br()\n",
    "    ])"
   ]
  },
  {
   "cell_type": "markdown",
   "id": "64dca08f",
   "metadata": {},
   "source": [
    "**Callback functions for interactivity**\n",
    "\n",
    "The first part of the following code snippet is the callbacks. [This](https://stackoverflow.com/questions/824234/what-is-a-callback-function) stackoverflow thread has a good resource on this. A callback function is a function you provide to another piece of code, allowing it to be called by that code. The `@app.callback(...)` function is put above the normal python function so that the later calls the former. The dash callback functions have a specific structure. The `Output` and `Input` modules imported above are used here to transfer arguments to the user defined fucntion (in this case `racing_bar_chart()`. \n",
    "\n",
    "The callback function works as follows.The first argument of the `Output`, racing_bar_chart_output, refers to the id of the graph inside `dcc.Graph()` above in the layout. This tells the function, that calls it, (i.e. called by the user defined function below the callback) to put the figure in the place with the relevant id. The second argument is just an optional argument (can be safely ignored for now). In the `Input`, the first argument is the id of the `dcc.Dropdown(...)` function in the layout section above. This tells the function, that calls it, (i.e. `racing_bar_chart()`) to take inputs and use that input. This is indicated by the argument of the user defined funciton (i.e. `racing_bar_chart()`. The argument selected_var is a parameter that expects some input from the callback above it. The second argument of `Input` tells which part of the `dcc.Dropdown()` function with the id of drop_down_input is taken as input."
   ]
  },
  {
   "cell_type": "code",
   "execution_count": 7,
   "id": "2d6360b2",
   "metadata": {},
   "outputs": [],
   "source": [
    "@app.callback(\n",
    "    Output('racing_bar_chart_output', 'figure'),\n",
    "    Input('dropdown_var_input', 'value'))\n",
    "def racing_bar_chart(selected_var):\n",
    "    range_y=[]\n",
    "\n",
    "    #determine the range of the y-axis for each of the variables\n",
    "    if selected_var=='collection':\n",
    "        range_y = [0, 54]\n",
    "    if selected_var=='disbursement':\n",
    "        range_y =  [0, 111]\n",
    "    if selected_var=='outstanding':\n",
    "        range_y = [0, 708]\n",
    "\n",
    "    #construct the image        \n",
    "    fig_bar = px.bar(df, x=\"bank\", y=selected_var, color=\"bank\",\n",
    "                animation_frame=\"year\", animation_group=\"bank\",\n",
    "                    range_y= range_y,\n",
    "                    color_discrete_sequence=px.colors.qualitative.T10)    \n",
    "    fig_bar.update_yaxes(showgrid=True),\n",
    "    fig_bar.update_xaxes(categoryorder='total descending')\n",
    "    fig_bar.update_traces(hovertemplate=None)\n",
    "    fig_bar.layout.updatemenus[0].buttons[0].args[1][\"frame\"][\"duration\"] = 500\n",
    "    fig_bar.update_layout(margin=dict(t=70, b=0, l=70, r=40),\n",
    "                            hovermode=\"x unified\",\n",
    "                            xaxis_tickangle=360,\n",
    "                            xaxis_title='Banks in Ethiopia', yaxis_title=selected_var,\n",
    "                            title_font=dict(size=25, color='#a5a7ab', family=\"Lato, sans-serif\"),\n",
    "                            font=dict(color='#8a8d93'),\n",
    "                            legend=dict(orientation=\"h\", yanchor=\"bottom\", y=1.02, xanchor=\"right\", x=1)\n",
    "                            )\n",
    "    #returns the constructed figure to the space with the id=racing_bar_chart_output\n",
    "    return fig_bar"
   ]
  },
  {
   "cell_type": "markdown",
   "id": "29a05db3",
   "metadata": {},
   "source": [
    "Let’s examine the user defined function racing_bar_chart. It is a normal python function. It starts with the key word `def`, have a user-defined name, expects some value through the variable inside the parenthesis, and returns something return fig_bar. The only difference is the value that this function expects comes from another function (the callback function.) There are three sections inside this function. Lets see each of them. The first one is determining the range of values in the y-axis. This is because, the relative size of loan disbursement, collection and outstanding values are different. Because we are drawing the bar charts on the same plot, huge differences in the range of the y-axis values distorts the charts. The code is pretty simple: if the column transferred through the callback function to this function is, for e.g. \"collection\", then set the range of values for this variable accordingly. Then, this information will be used to customize the graph yet to be constructed.\n",
    "\n",
    "The second section of the code snippet in the function is the actual construction of the figure. The method `px.bar()` is the method used to accept some inputs and draw the chart. Remember that plotly.express was imported as px above. The first argument to this function is the the data frame df. It then sets the y-axis and the x-axis. Please note that the selected_var the function accepts from the callback is used here to set the y-axis.\n",
    "\n",
    "**Running the app**\n",
    "\n",
    "At the end of your file, you should have the following code. This checks if this file ( `__name__` ) is the same as `__main__` and runs the dash app."
   ]
  },
  {
   "cell_type": "code",
   "execution_count": 8,
   "id": "94796231",
   "metadata": {
    "scrolled": true
   },
   "outputs": [
    {
     "name": "stdout",
     "output_type": "stream",
     "text": [
      "Dash is running on http://127.0.0.1:8052/\n",
      "\n"
     ]
    },
    {
     "data": {
      "text/html": [
       "\n",
       "        <iframe\n",
       "            width=\"100%\"\n",
       "            height=\"650\"\n",
       "            src=\"http://127.0.0.1:8052/\"\n",
       "            frameborder=\"0\"\n",
       "            allowfullscreen\n",
       "            \n",
       "        ></iframe>\n",
       "        "
      ],
      "text/plain": [
       "<IPython.lib.display.IFrame at 0x7f54470c1b10>"
      ]
     },
     "metadata": {},
     "output_type": "display_data"
    }
   ],
   "source": [
    "if __name__ == '__main__':\n",
    "    app.run_server(mode='inline', port=8052)"
   ]
  },
  {
   "cell_type": "markdown",
   "id": "b686734d",
   "metadata": {},
   "source": [
    "Once you run your app from your machine. Make sure you have got a similar chart from your own browser like the one shown above.\n",
    "\n",
    "At first appearance, you will see an empty grid. You will see a dropdown menu just above the figure with a place holder that says “Select”. Select the variable of interest. As soon as you selected a variable to draw, a year slider appears below the chart. Press the `play` sign and see the year slider move. Because private banks joined the Ethiopian financial sector starting the late 1990’s, you won’t see any significant racing up until then. Furthermore, because there are several banks displayed on the legend, you may not see the chart very clearly on small devices (if, for e.g., you are reading this tutorial on mobile devices). Have a try on larger devices.\n",
    "\n",
    "There is one big bank (CBE short for Commercial Bank of Ethiopia) which dampened the relative importance of other banks. You can hide CBE from the race and try with the rest of the banks. You can easily do this by using the legend above the chart. You can click “CBE” once and its color fades away and you will not see “CBE” in the chart making the racing clearer. You can also use the control buttons at the top right of the chart. \n",
    "As you put the cursor closor to the controls, you can read their purpose such as reseting axis, zooming in and out. You can also download images it to your local machine."
   ]
  }
 ],
 "metadata": {
  "kernelspec": {
   "display_name": "Python 3 (ipykernel)",
   "language": "python",
   "name": "python3"
  },
  "language_info": {
   "codemirror_mode": {
    "name": "ipython",
    "version": 3
   },
   "file_extension": ".py",
   "mimetype": "text/x-python",
   "name": "python",
   "nbconvert_exporter": "python",
   "pygments_lexer": "ipython3",
   "version": "3.10.11"
  },
  "vscode": {
   "interpreter": {
    "hash": "e298489c9d73ed8685d7ad98d6a05d99297c37df3d7a9499035d36ba0511445b"
   }
  }
 },
 "nbformat": 4,
 "nbformat_minor": 5
}
